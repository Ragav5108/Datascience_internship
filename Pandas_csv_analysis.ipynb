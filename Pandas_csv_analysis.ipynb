{
  "nbformat": 4,
  "nbformat_minor": 0,
  "metadata": {
    "colab": {
      "provenance": [],
      "authorship_tag": "ABX9TyO8C9B4YN9NQzVWlMx7WHZp",
      "include_colab_link": true
    },
    "kernelspec": {
      "name": "python3",
      "display_name": "Python 3"
    },
    "language_info": {
      "name": "python"
    }
  },
  "cells": [
    {
      "cell_type": "markdown",
      "metadata": {
        "id": "view-in-github",
        "colab_type": "text"
      },
      "source": [
        "<a href=\"https://colab.research.google.com/github/Ragav5108/Datascience_internship/blob/main/Pandas_csv_analysis.ipynb\" target=\"_parent\"><img src=\"https://colab.research.google.com/assets/colab-badge.svg\" alt=\"Open In Colab\"/></a>"
      ]
    },
    {
      "cell_type": "code",
      "execution_count": null,
      "metadata": {
        "id": "2WlAivd2Roo_"
      },
      "outputs": [],
      "source": [
        "import pandas as pd\n",
        "import numpy as np"
      ]
    },
    {
      "cell_type": "code",
      "source": [
        "# Load the dataset\n",
        "df = pd.read_csv('/content/simple_fever_dataset.csv')  # Replace"
      ],
      "metadata": {
        "id": "PXKLnSCDSW6W"
      },
      "execution_count": 3,
      "outputs": []
    },
    {
      "cell_type": "code",
      "source": [
        "print(\"\\n--- Head ---\")\n",
        "print(df.head())"
      ],
      "metadata": {
        "id": "Pji1kKCSSjtl",
        "colab": {
          "base_uri": "https://localhost:8080/"
        },
        "outputId": "6bf90aab-a102-472f-8080-bee986542abe"
      },
      "execution_count": 4,
      "outputs": [
        {
          "output_type": "stream",
          "name": "stdout",
          "text": [
            "\n",
            "--- Head ---\n",
            "      Name  Age  Gender  Temperature  Fever Duration Cough Cold Headache  \\\n",
            "0   Aditya   69    Male        102.2               7    No  Yes       No   \n",
            "1    Aarya   46    Male        100.3               6    No   No       No   \n",
            "2  Krishna   77  Female        101.8               9    No   No      Yes   \n",
            "3   Saanvi   20  Female        101.0               2   Yes  Yes       No   \n",
            "4   Vihaan   17    Male        103.0              10   Yes  Yes      Yes   \n",
            "\n",
            "  Tested for COVID      Result Medicine Given Recovered  \n",
            "0               No  Not tested            NaN       Yes  \n",
            "1               No  Not tested       Dolo 650       Yes  \n",
            "2              Yes    Negative    Paracetamol        No  \n",
            "3              Yes    Positive            NaN       Yes  \n",
            "4              Yes  Not tested       Dolo 650       Yes  \n"
          ]
        }
      ]
    },
    {
      "cell_type": "code",
      "source": [
        "# Tail: last 5 rows\n",
        "print(\"\\nTail:\\n\", df.tail())"
      ],
      "metadata": {
        "colab": {
          "base_uri": "https://localhost:8080/"
        },
        "id": "xHHYZa0ITerw",
        "outputId": "0be74915-195d-46bc-f876-dea185a36958"
      },
      "execution_count": 5,
      "outputs": [
        {
          "output_type": "stream",
          "name": "stdout",
          "text": [
            "\n",
            "Tail:\n",
            "        Name  Age  Gender  Temperature  Fever Duration Cough Cold Headache  \\\n",
            "55  Krishna   38    Male         98.7               2   Yes  Yes       No   \n",
            "56   Saanvi   26    Male        101.2               7    No   No       No   \n",
            "57    Aarya   64    Male        102.8               1   Yes  Yes       No   \n",
            "58     Diya   43  Female        103.7               9    No   No      Yes   \n",
            "59      Ira   29  Female        103.2               2   Yes   No       No   \n",
            "\n",
            "   Tested for COVID      Result Medicine Given Recovered  \n",
            "55              Yes  Not tested         Crocin        No  \n",
            "56              Yes    Positive            NaN        No  \n",
            "57              Yes    Positive         Crocin       Yes  \n",
            "58               No  Not tested    Paracetamol        No  \n",
            "59              Yes  Not tested       Dolo 650       Yes  \n"
          ]
        }
      ]
    },
    {
      "cell_type": "code",
      "source": [
        "# Info: summary of dataframe\n",
        "print(\"\\nInfo:\")\n",
        "df.info()"
      ],
      "metadata": {
        "colab": {
          "base_uri": "https://localhost:8080/"
        },
        "id": "2BX_FUlDUS37",
        "outputId": "bca9ad49-4dc8-41a0-814a-51cbc0ecea45"
      },
      "execution_count": 7,
      "outputs": [
        {
          "output_type": "stream",
          "name": "stdout",
          "text": [
            "\n",
            "Info:\n",
            "<class 'pandas.core.frame.DataFrame'>\n",
            "RangeIndex: 60 entries, 0 to 59\n",
            "Data columns (total 12 columns):\n",
            " #   Column            Non-Null Count  Dtype  \n",
            "---  ------            --------------  -----  \n",
            " 0   Name              60 non-null     object \n",
            " 1   Age               60 non-null     int64  \n",
            " 2   Gender            60 non-null     object \n",
            " 3   Temperature       60 non-null     float64\n",
            " 4   Fever Duration    60 non-null     int64  \n",
            " 5   Cough             60 non-null     object \n",
            " 6   Cold              60 non-null     object \n",
            " 7   Headache          60 non-null     object \n",
            " 8   Tested for COVID  60 non-null     object \n",
            " 9   Result            60 non-null     object \n",
            " 10  Medicine Given    46 non-null     object \n",
            " 11  Recovered         60 non-null     object \n",
            "dtypes: float64(1), int64(2), object(9)\n",
            "memory usage: 5.8+ KB\n"
          ]
        }
      ]
    },
    {
      "cell_type": "code",
      "source": [
        "# Mean: average of each numeric column\n",
        "print(\"\\nMean:\\n\", df.mean(numeric_only=True))"
      ],
      "metadata": {
        "colab": {
          "base_uri": "https://localhost:8080/"
        },
        "id": "OKOM_r9AUl4s",
        "outputId": "d127ba91-a613-4d59-aced-6ce12d1404a7"
      },
      "execution_count": 8,
      "outputs": [
        {
          "output_type": "stream",
          "name": "stdout",
          "text": [
            "\n",
            "Mean:\n",
            " Age                36.816667\n",
            "Temperature       101.073333\n",
            "Fever Duration      5.483333\n",
            "dtype: float64\n"
          ]
        }
      ]
    },
    {
      "cell_type": "code",
      "source": [
        "# Describe: statistical summary\n",
        "print(\"\\nDescribe:\\n\", df.describe())"
      ],
      "metadata": {
        "colab": {
          "base_uri": "https://localhost:8080/"
        },
        "id": "9CVVWkOlU0wk",
        "outputId": "9806c9b7-366e-4a6d-e271-08821ef92a1a"
      },
      "execution_count": 9,
      "outputs": [
        {
          "output_type": "stream",
          "name": "stdout",
          "text": [
            "\n",
            "Describe:\n",
            "              Age  Temperature  Fever Duration\n",
            "count  60.000000    60.000000       60.000000\n",
            "mean   36.816667   101.073333        5.483333\n",
            "std    22.615048     1.683707        3.039244\n",
            "min     1.000000    98.100000        1.000000\n",
            "25%    17.750000    99.775000        3.000000\n",
            "50%    39.500000   101.000000        5.500000\n",
            "75%    55.250000   102.725000        8.000000\n",
            "max    80.000000   104.000000       10.000000\n"
          ]
        }
      ]
    },
    {
      "cell_type": "code",
      "source": [
        "# Standard deviation\n",
        "print(\"\\nStandard Deviation:\\n\", df.std(numeric_only=True))"
      ],
      "metadata": {
        "colab": {
          "base_uri": "https://localhost:8080/"
        },
        "id": "47rIKNOtVEiV",
        "outputId": "3ba123db-372f-4082-8f6f-95e95f5eac00"
      },
      "execution_count": 10,
      "outputs": [
        {
          "output_type": "stream",
          "name": "stdout",
          "text": [
            "\n",
            "Standard Deviation:\n",
            " Age               22.615048\n",
            "Temperature        1.683707\n",
            "Fever Duration     3.039244\n",
            "dtype: float64\n"
          ]
        }
      ]
    }
  ]
}