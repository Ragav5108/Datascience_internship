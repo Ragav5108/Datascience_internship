{
  "nbformat": 4,
  "nbformat_minor": 0,
  "metadata": {
    "colab": {
      "provenance": [],
      "authorship_tag": "ABX9TyOi+k6yPx0iV0aMubjNWrhj",
      "include_colab_link": true
    },
    "kernelspec": {
      "name": "python3",
      "display_name": "Python 3"
    },
    "language_info": {
      "name": "python"
    }
  },
  "cells": [
    {
      "cell_type": "markdown",
      "metadata": {
        "id": "view-in-github",
        "colab_type": "text"
      },
      "source": [
        "<a href=\"https://colab.research.google.com/github/Ragav5108/Datascience_internship/blob/main/Pandas_csv_analysis.ipynb\" target=\"_parent\"><img src=\"https://colab.research.google.com/assets/colab-badge.svg\" alt=\"Open In Colab\"/></a>"
      ]
    },
    {
      "cell_type": "code",
      "execution_count": null,
      "metadata": {
        "id": "2WlAivd2Roo_"
      },
      "outputs": [],
      "source": [
        "import pandas as pd\n",
        "import numpy as np"
      ]
    },
    {
      "cell_type": "code",
      "source": [
        "# Load the dataset\n",
        "df = pd.read_csv('/content/simple_fever_dataset.csv')  # Replace"
      ],
      "metadata": {
        "id": "PXKLnSCDSW6W"
      },
      "execution_count": 5,
      "outputs": []
    },
    {
      "cell_type": "code",
      "source": [
        "print(\"\\n--- Head ---\")\n",
        "print(df.head())"
      ],
      "metadata": {
        "id": "Pji1kKCSSjtl",
        "colab": {
          "base_uri": "https://localhost:8080/"
        },
        "outputId": "41d47f15-619e-4449-aa65-09df4420e324"
      },
      "execution_count": 6,
      "outputs": [
        {
          "output_type": "stream",
          "name": "stdout",
          "text": [
            "\n",
            "--- Head ---\n",
            "      Name  Age  Gender  Temperature  Fever Duration Cough Cold Headache  \\\n",
            "0   Aditya   69    Male        102.2               7    No  Yes       No   \n",
            "1    Aarya   46    Male        100.3               6    No   No       No   \n",
            "2  Krishna   77  Female        101.8               9    No   No      Yes   \n",
            "3   Saanvi   20  Female        101.0               2   Yes  Yes       No   \n",
            "4   Vihaan   17    Male        103.0              10   Yes  Yes      Yes   \n",
            "\n",
            "  Tested for COVID      Result Medicine Given Recovered  \n",
            "0               No  Not tested            NaN       Yes  \n",
            "1               No  Not tested       Dolo 650       Yes  \n",
            "2              Yes    Negative    Paracetamol        No  \n",
            "3              Yes    Positive            NaN       Yes  \n",
            "4              Yes  Not tested       Dolo 650       Yes  \n"
          ]
        }
      ]
    },
    {
      "cell_type": "code",
      "source": [
        "# Tail: last 5 rows\n",
        "print(\"\\nTail:\\n\", df.tail())"
      ],
      "metadata": {
        "colab": {
          "base_uri": "https://localhost:8080/"
        },
        "id": "xHHYZa0ITerw",
        "outputId": "b5cf83d9-4d61-4bfc-d0b8-5451758efb57"
      },
      "execution_count": 7,
      "outputs": [
        {
          "output_type": "stream",
          "name": "stdout",
          "text": [
            "\n",
            "Tail:\n",
            "        Name  Age  Gender  Temperature  Fever Duration Cough Cold Headache  \\\n",
            "55  Krishna   38    Male         98.7               2   Yes  Yes       No   \n",
            "56   Saanvi   26    Male        101.2               7    No   No       No   \n",
            "57    Aarya   64    Male        102.8               1   Yes  Yes       No   \n",
            "58     Diya   43  Female        103.7               9    No   No      Yes   \n",
            "59      Ira   29  Female        103.2               2   Yes   No       No   \n",
            "\n",
            "   Tested for COVID      Result Medicine Given Recovered  \n",
            "55              Yes  Not tested         Crocin        No  \n",
            "56              Yes    Positive            NaN        No  \n",
            "57              Yes    Positive         Crocin       Yes  \n",
            "58               No  Not tested    Paracetamol        No  \n",
            "59              Yes  Not tested       Dolo 650       Yes  \n"
          ]
        }
      ]
    },
    {
      "cell_type": "markdown",
      "source": [
        "BASIC INFORMATION"
      ],
      "metadata": {
        "id": "WThlud16oG7j"
      }
    },
    {
      "cell_type": "code",
      "source": [
        "# Info: summary of dataframe\n",
        "print(\"\\nInfo:\")\n",
        "df.info()"
      ],
      "metadata": {
        "colab": {
          "base_uri": "https://localhost:8080/"
        },
        "id": "2BX_FUlDUS37",
        "outputId": "79d608a7-ea76-4435-9a9a-7e44f1b92cfb"
      },
      "execution_count": 8,
      "outputs": [
        {
          "output_type": "stream",
          "name": "stdout",
          "text": [
            "\n",
            "Info:\n",
            "<class 'pandas.core.frame.DataFrame'>\n",
            "RangeIndex: 60 entries, 0 to 59\n",
            "Data columns (total 12 columns):\n",
            " #   Column            Non-Null Count  Dtype  \n",
            "---  ------            --------------  -----  \n",
            " 0   Name              60 non-null     object \n",
            " 1   Age               60 non-null     int64  \n",
            " 2   Gender            60 non-null     object \n",
            " 3   Temperature       60 non-null     float64\n",
            " 4   Fever Duration    60 non-null     int64  \n",
            " 5   Cough             60 non-null     object \n",
            " 6   Cold              60 non-null     object \n",
            " 7   Headache          60 non-null     object \n",
            " 8   Tested for COVID  60 non-null     object \n",
            " 9   Result            60 non-null     object \n",
            " 10  Medicine Given    46 non-null     object \n",
            " 11  Recovered         60 non-null     object \n",
            "dtypes: float64(1), int64(2), object(9)\n",
            "memory usage: 5.8+ KB\n"
          ]
        }
      ]
    },
    {
      "cell_type": "code",
      "source": [
        "# Mean: average of each numeric column\n",
        "print(\"\\nMean:\\n\", df.mean(numeric_only=True))"
      ],
      "metadata": {
        "colab": {
          "base_uri": "https://localhost:8080/"
        },
        "id": "OKOM_r9AUl4s",
        "outputId": "d127ba91-a613-4d59-aced-6ce12d1404a7"
      },
      "execution_count": null,
      "outputs": [
        {
          "output_type": "stream",
          "name": "stdout",
          "text": [
            "\n",
            "Mean:\n",
            " Age                36.816667\n",
            "Temperature       101.073333\n",
            "Fever Duration      5.483333\n",
            "dtype: float64\n"
          ]
        }
      ]
    },
    {
      "cell_type": "code",
      "source": [
        "# Describe: statistical summary\n",
        "print(\"\\nDescribe:\\n\", df.describe())"
      ],
      "metadata": {
        "colab": {
          "base_uri": "https://localhost:8080/"
        },
        "id": "9CVVWkOlU0wk",
        "outputId": "9806c9b7-366e-4a6d-e271-08821ef92a1a"
      },
      "execution_count": null,
      "outputs": [
        {
          "output_type": "stream",
          "name": "stdout",
          "text": [
            "\n",
            "Describe:\n",
            "              Age  Temperature  Fever Duration\n",
            "count  60.000000    60.000000       60.000000\n",
            "mean   36.816667   101.073333        5.483333\n",
            "std    22.615048     1.683707        3.039244\n",
            "min     1.000000    98.100000        1.000000\n",
            "25%    17.750000    99.775000        3.000000\n",
            "50%    39.500000   101.000000        5.500000\n",
            "75%    55.250000   102.725000        8.000000\n",
            "max    80.000000   104.000000       10.000000\n"
          ]
        }
      ]
    },
    {
      "cell_type": "code",
      "source": [
        "# Standard deviation\n",
        "print(\"\\nStandard Deviation:\\n\", df.std(numeric_only=True))"
      ],
      "metadata": {
        "colab": {
          "base_uri": "https://localhost:8080/"
        },
        "id": "47rIKNOtVEiV",
        "outputId": "3ba123db-372f-4082-8f6f-95e95f5eac00"
      },
      "execution_count": null,
      "outputs": [
        {
          "output_type": "stream",
          "name": "stdout",
          "text": [
            "\n",
            "Standard Deviation:\n",
            " Age               22.615048\n",
            "Temperature        1.683707\n",
            "Fever Duration     3.039244\n",
            "dtype: float64\n"
          ]
        }
      ]
    },
    {
      "cell_type": "markdown",
      "source": [
        "SELECTING ROWS AND COLUMNS"
      ],
      "metadata": {
        "id": "qLO-84BOoNId"
      }
    },
    {
      "cell_type": "code",
      "source": [
        "# Conditional selection\n",
        "print(df[df['Age'] > 25])"
      ],
      "metadata": {
        "id": "kjt7rbRKaDOO",
        "colab": {
          "base_uri": "https://localhost:8080/"
        },
        "outputId": "608bcf13-68ce-4f2f-ce36-a3b9cbfd1a9f"
      },
      "execution_count": 10,
      "outputs": [
        {
          "output_type": "stream",
          "name": "stdout",
          "text": [
            "       Name  Age  Gender  Temperature  Fever Duration Cough Cold Headache  \\\n",
            "0    Aditya   69    Male        102.2               7    No  Yes       No   \n",
            "1     Aarya   46    Male        100.3               6    No   No       No   \n",
            "2   Krishna   77  Female        101.8               9    No   No      Yes   \n",
            "5     Aarya   78  Female        100.3               8    No  Yes      Yes   \n",
            "6    Vihaan   66    Male         98.6               2    No  Yes       No   \n",
            "7     Aryan   40    Male         99.3               3    No   No      Yes   \n",
            "8    Vihaan   30    Male        101.2               4   Yes   No      Yes   \n",
            "9     Rohan   47  Female         98.9               6   Yes  Yes       No   \n",
            "10      Ira   59  Female        101.1               9    No   No       No   \n",
            "11    Dhruv   56  Female         99.4               9    No   No      Yes   \n",
            "13     Diya   31  Female         98.1              10   Yes   No      Yes   \n",
            "15    Dhruv   39    Male        102.8               4   Yes   No       No   \n",
            "18    Anaya   69    Male        103.0               5    No  Yes      Yes   \n",
            "19   Saanvi   41    Male        100.1               2    No   No       No   \n",
            "21     Riya   57  Female        104.0               8   Yes   No      Yes   \n",
            "22   Saanvi   40    Male        103.1               9    No   No      Yes   \n",
            "24     Riya   69  Female        103.9               3    No   No       No   \n",
            "25     Diya   45    Male        102.3               1    No   No       No   \n",
            "26   Vivaan   32    Male        100.6               7    No  Yes       No   \n",
            "27    Aarav   55  Female        103.1               2   Yes   No       No   \n",
            "28    Anaya   58  Female        103.4               1   Yes   No       No   \n",
            "30    Aarav   57    Male        102.7               4    No   No      Yes   \n",
            "31   Saanvi   69  Female         99.0               3   Yes  Yes       No   \n",
            "33  Krishna   40  Female        100.9               1   Yes  Yes       No   \n",
            "36    Anaya   49    Male         98.7               4    No   No       No   \n",
            "39    Arjun   80  Female        101.2               7    No   No       No   \n",
            "40   Vihaan   41    Male         99.7               3    No  Yes      Yes   \n",
            "42   Vihaan   45    Male        101.6               8   Yes   No      Yes   \n",
            "43     Sara   53    Male         98.2               8    No  Yes       No   \n",
            "44     Diya   59    Male         98.8               7   Yes  Yes       No   \n",
            "48   Aditya   39    Male         99.0               3   Yes   No      Yes   \n",
            "50    Meera   45    Male        100.2               9    No  Yes      Yes   \n",
            "52    Anaya   34  Female        101.3               7    No  Yes      Yes   \n",
            "53      Ira   55  Female        101.0               5   Yes   No      Yes   \n",
            "55  Krishna   38    Male         98.7               2   Yes  Yes       No   \n",
            "56   Saanvi   26    Male        101.2               7    No   No       No   \n",
            "57    Aarya   64    Male        102.8               1   Yes  Yes       No   \n",
            "58     Diya   43  Female        103.7               9    No   No      Yes   \n",
            "59      Ira   29  Female        103.2               2   Yes   No       No   \n",
            "\n",
            "   Tested for COVID      Result Medicine Given Recovered  \n",
            "0                No  Not tested            NaN       Yes  \n",
            "1                No  Not tested       Dolo 650       Yes  \n",
            "2               Yes    Negative    Paracetamol        No  \n",
            "5               Yes    Negative       Dolo 650        No  \n",
            "6               Yes    Positive      Ibuprofen       Yes  \n",
            "7               Yes  Not tested      Ibuprofen        No  \n",
            "8               Yes    Negative       Dolo 650        No  \n",
            "9                No  Not tested       Dolo 650       Yes  \n",
            "10               No  Not tested       Dolo 650        No  \n",
            "11              Yes    Positive       Dolo 650        No  \n",
            "13               No  Not tested    Paracetamol       Yes  \n",
            "15               No  Not tested            NaN       Yes  \n",
            "18              Yes    Negative    Paracetamol        No  \n",
            "19               No  Not tested      Ibuprofen       Yes  \n",
            "21              Yes    Positive       Dolo 650       Yes  \n",
            "22               No  Not tested      Ibuprofen       Yes  \n",
            "24               No  Not tested    Paracetamol        No  \n",
            "25              Yes    Negative    Paracetamol        No  \n",
            "26               No  Not tested       Dolo 650        No  \n",
            "27               No  Not tested            NaN        No  \n",
            "28               No  Not tested    Paracetamol       Yes  \n",
            "30               No  Not tested            NaN       Yes  \n",
            "31               No  Not tested    Paracetamol       Yes  \n",
            "33               No  Not tested      Ibuprofen       Yes  \n",
            "36              Yes    Negative            NaN        No  \n",
            "39               No  Not tested            NaN        No  \n",
            "40               No  Not tested            NaN        No  \n",
            "42               No  Not tested      Ibuprofen       Yes  \n",
            "43               No  Not tested       Dolo 650        No  \n",
            "44              Yes  Not tested      Ibuprofen        No  \n",
            "48              Yes  Not tested         Crocin        No  \n",
            "50               No  Not tested    Paracetamol        No  \n",
            "52              Yes  Not tested         Crocin       Yes  \n",
            "53              Yes  Not tested    Paracetamol        No  \n",
            "55              Yes  Not tested         Crocin        No  \n",
            "56              Yes    Positive            NaN        No  \n",
            "57              Yes    Positive         Crocin       Yes  \n",
            "58               No  Not tested    Paracetamol        No  \n",
            "59              Yes  Not tested       Dolo 650       Yes  \n"
          ]
        }
      ]
    },
    {
      "cell_type": "code",
      "source": [
        "# Single column\n",
        "print(df['Age'])"
      ],
      "metadata": {
        "id": "1xOcNCHRhf43",
        "colab": {
          "base_uri": "https://localhost:8080/"
        },
        "outputId": "619c3906-3649-4ead-b000-28906a75c992"
      },
      "execution_count": 11,
      "outputs": [
        {
          "output_type": "stream",
          "name": "stdout",
          "text": [
            "0     69\n",
            "1     46\n",
            "2     77\n",
            "3     20\n",
            "4     17\n",
            "5     78\n",
            "6     66\n",
            "7     40\n",
            "8     30\n",
            "9     47\n",
            "10    59\n",
            "11    56\n",
            "12     7\n",
            "13    31\n",
            "14     1\n",
            "15    39\n",
            "16    24\n",
            "17     7\n",
            "18    69\n",
            "19    41\n",
            "20     8\n",
            "21    57\n",
            "22    40\n",
            "23     7\n",
            "24    69\n",
            "25    45\n",
            "26    32\n",
            "27    55\n",
            "28    58\n",
            "29     9\n",
            "30    57\n",
            "31    69\n",
            "32    25\n",
            "33    40\n",
            "34    22\n",
            "35     5\n",
            "36    49\n",
            "37    11\n",
            "38     1\n",
            "39    80\n",
            "40    41\n",
            "41     2\n",
            "42    45\n",
            "43    53\n",
            "44    59\n",
            "45     7\n",
            "46     6\n",
            "47    20\n",
            "48    39\n",
            "49    16\n",
            "50    45\n",
            "51    18\n",
            "52    34\n",
            "53    55\n",
            "54     6\n",
            "55    38\n",
            "56    26\n",
            "57    64\n",
            "58    43\n",
            "59    29\n",
            "Name: Age, dtype: int64\n"
          ]
        }
      ]
    },
    {
      "cell_type": "code",
      "source": [
        "# Multiple columns\n",
        "print(df[['Age','Temperature']])"
      ],
      "metadata": {
        "colab": {
          "base_uri": "https://localhost:8080/"
        },
        "id": "rpuQNVlTo14W",
        "outputId": "788b7722-dd5b-4421-a416-578103c8ee9e"
      },
      "execution_count": 22,
      "outputs": [
        {
          "output_type": "stream",
          "name": "stdout",
          "text": [
            "    Age  Temperature\n",
            "0    69        102.2\n",
            "1    46        100.3\n",
            "2    77        101.8\n",
            "3    20        101.0\n",
            "4    17        103.0\n",
            "5    78        100.3\n",
            "6    66         98.6\n",
            "7    40         99.3\n",
            "8    30        101.2\n",
            "9    47         98.9\n",
            "10   59        101.1\n",
            "11   56         99.4\n",
            "12    7         99.8\n",
            "13   31         98.1\n",
            "14    1        100.1\n",
            "15   39        102.8\n",
            "16   24        103.5\n",
            "17    7        100.2\n",
            "18   69        103.0\n",
            "19   41        100.1\n",
            "20    8        100.2\n",
            "21   57        104.0\n",
            "22   40        103.1\n",
            "23    7        103.9\n",
            "24   69        103.9\n",
            "25   45        102.3\n",
            "26   32        100.6\n",
            "27   55        103.1\n",
            "28   58        103.4\n",
            "29    9        103.3\n",
            "30   57        102.7\n",
            "31   69         99.0\n",
            "32   25        102.2\n",
            "33   40        100.9\n",
            "34   22         99.1\n",
            "35    5        103.0\n",
            "36   49         98.7\n",
            "37   11        102.0\n",
            "38    1        100.5\n",
            "39   80        101.2\n",
            "40   41         99.7\n",
            "41    2        100.5\n",
            "42   45        101.6\n",
            "43   53         98.2\n",
            "44   59         98.8\n",
            "45    7        101.6\n",
            "46    6        100.4\n",
            "47   20        100.2\n",
            "48   39         99.0\n",
            "49   16        101.9\n",
            "50   45        100.2\n",
            "51   18         99.6\n",
            "52   34        101.3\n",
            "53   55        101.0\n",
            "54    6         99.0\n",
            "55   38         98.7\n",
            "56   26        101.2\n",
            "57   64        102.8\n",
            "58   43        103.7\n",
            "59   29        103.2\n"
          ]
        }
      ]
    },
    {
      "cell_type": "code",
      "source": [
        "# Selecting rows by index\n",
        "print(df.iloc[0])  # First row"
      ],
      "metadata": {
        "colab": {
          "base_uri": "https://localhost:8080/"
        },
        "id": "Fup9UCObqa7r",
        "outputId": "d54f92b8-9a0e-4d72-e0f7-08b3ecf76a8d"
      },
      "execution_count": 23,
      "outputs": [
        {
          "output_type": "stream",
          "name": "stdout",
          "text": [
            "Name                    Aditya\n",
            "Age                         69\n",
            "Gender                    Male\n",
            "Temperature              102.2\n",
            "Fever Duration               7\n",
            "Cough                       No\n",
            "Cold                       Yes\n",
            "Headache                    No\n",
            "Tested for COVID            No\n",
            "Result              Not tested\n",
            "Medicine Given             NaN\n",
            "Recovered                  Yes\n",
            "Name: 0, dtype: object\n"
          ]
        }
      ]
    },
    {
      "cell_type": "markdown",
      "source": [
        "#FILTERING AND CONDITION"
      ],
      "metadata": {
        "id": "oR8FKL94q0I9"
      }
    },
    {
      "cell_type": "code",
      "source": [
        "# Filter with one condition\n",
        "filtered = df[df['Age'] > 50]\n",
        "print (filtered)"
      ],
      "metadata": {
        "colab": {
          "base_uri": "https://localhost:8080/"
        },
        "id": "k_T9QX8pqi3_",
        "outputId": "10034a3f-c8b3-400e-c562-b7ae60ba0e8d"
      },
      "execution_count": 26,
      "outputs": [
        {
          "output_type": "stream",
          "name": "stdout",
          "text": [
            "       Name  Age  Gender  Temperature  Fever Duration Cough Cold Headache  \\\n",
            "0    Aditya   69    Male        102.2               7    No  Yes       No   \n",
            "2   Krishna   77  Female        101.8               9    No   No      Yes   \n",
            "5     Aarya   78  Female        100.3               8    No  Yes      Yes   \n",
            "6    Vihaan   66    Male         98.6               2    No  Yes       No   \n",
            "10      Ira   59  Female        101.1               9    No   No       No   \n",
            "11    Dhruv   56  Female         99.4               9    No   No      Yes   \n",
            "18    Anaya   69    Male        103.0               5    No  Yes      Yes   \n",
            "21     Riya   57  Female        104.0               8   Yes   No      Yes   \n",
            "24     Riya   69  Female        103.9               3    No   No       No   \n",
            "27    Aarav   55  Female        103.1               2   Yes   No       No   \n",
            "28    Anaya   58  Female        103.4               1   Yes   No       No   \n",
            "30    Aarav   57    Male        102.7               4    No   No      Yes   \n",
            "31   Saanvi   69  Female         99.0               3   Yes  Yes       No   \n",
            "39    Arjun   80  Female        101.2               7    No   No       No   \n",
            "43     Sara   53    Male         98.2               8    No  Yes       No   \n",
            "44     Diya   59    Male         98.8               7   Yes  Yes       No   \n",
            "53      Ira   55  Female        101.0               5   Yes   No      Yes   \n",
            "57    Aarya   64    Male        102.8               1   Yes  Yes       No   \n",
            "\n",
            "   Tested for COVID      Result Medicine Given Recovered  \n",
            "0                No  Not tested            NaN       Yes  \n",
            "2               Yes    Negative    Paracetamol        No  \n",
            "5               Yes    Negative       Dolo 650        No  \n",
            "6               Yes    Positive      Ibuprofen       Yes  \n",
            "10               No  Not tested       Dolo 650        No  \n",
            "11              Yes    Positive       Dolo 650        No  \n",
            "18              Yes    Negative    Paracetamol        No  \n",
            "21              Yes    Positive       Dolo 650       Yes  \n",
            "24               No  Not tested    Paracetamol        No  \n",
            "27               No  Not tested            NaN        No  \n",
            "28               No  Not tested    Paracetamol       Yes  \n",
            "30               No  Not tested            NaN       Yes  \n",
            "31               No  Not tested    Paracetamol       Yes  \n",
            "39               No  Not tested            NaN        No  \n",
            "43               No  Not tested       Dolo 650        No  \n",
            "44              Yes  Not tested      Ibuprofen        No  \n",
            "53              Yes  Not tested    Paracetamol        No  \n",
            "57              Yes    Positive         Crocin       Yes  \n"
          ]
        }
      ]
    },
    {
      "cell_type": "code",
      "source": [
        "# Multiple conditions (AND)\n",
        "filtered = df[(df['Age'] > 30) & (df['Gender'] == 'Male')]\n",
        "print (filtered)"
      ],
      "metadata": {
        "colab": {
          "base_uri": "https://localhost:8080/"
        },
        "id": "e_AopNzzrMew",
        "outputId": "07659007-31b9-4cdf-8e6f-0e0ba0d7ce0e"
      },
      "execution_count": 29,
      "outputs": [
        {
          "output_type": "stream",
          "name": "stdout",
          "text": [
            "       Name  Age Gender  Temperature  Fever Duration Cough Cold Headache  \\\n",
            "0    Aditya   69   Male        102.2               7    No  Yes       No   \n",
            "1     Aarya   46   Male        100.3               6    No   No       No   \n",
            "6    Vihaan   66   Male         98.6               2    No  Yes       No   \n",
            "7     Aryan   40   Male         99.3               3    No   No      Yes   \n",
            "15    Dhruv   39   Male        102.8               4   Yes   No       No   \n",
            "18    Anaya   69   Male        103.0               5    No  Yes      Yes   \n",
            "19   Saanvi   41   Male        100.1               2    No   No       No   \n",
            "22   Saanvi   40   Male        103.1               9    No   No      Yes   \n",
            "25     Diya   45   Male        102.3               1    No   No       No   \n",
            "26   Vivaan   32   Male        100.6               7    No  Yes       No   \n",
            "30    Aarav   57   Male        102.7               4    No   No      Yes   \n",
            "36    Anaya   49   Male         98.7               4    No   No       No   \n",
            "40   Vihaan   41   Male         99.7               3    No  Yes      Yes   \n",
            "42   Vihaan   45   Male        101.6               8   Yes   No      Yes   \n",
            "43     Sara   53   Male         98.2               8    No  Yes       No   \n",
            "44     Diya   59   Male         98.8               7   Yes  Yes       No   \n",
            "48   Aditya   39   Male         99.0               3   Yes   No      Yes   \n",
            "50    Meera   45   Male        100.2               9    No  Yes      Yes   \n",
            "55  Krishna   38   Male         98.7               2   Yes  Yes       No   \n",
            "57    Aarya   64   Male        102.8               1   Yes  Yes       No   \n",
            "\n",
            "   Tested for COVID      Result Medicine Given Recovered  \n",
            "0                No  Not tested            NaN       Yes  \n",
            "1                No  Not tested       Dolo 650       Yes  \n",
            "6               Yes    Positive      Ibuprofen       Yes  \n",
            "7               Yes  Not tested      Ibuprofen        No  \n",
            "15               No  Not tested            NaN       Yes  \n",
            "18              Yes    Negative    Paracetamol        No  \n",
            "19               No  Not tested      Ibuprofen       Yes  \n",
            "22               No  Not tested      Ibuprofen       Yes  \n",
            "25              Yes    Negative    Paracetamol        No  \n",
            "26               No  Not tested       Dolo 650        No  \n",
            "30               No  Not tested            NaN       Yes  \n",
            "36              Yes    Negative            NaN        No  \n",
            "40               No  Not tested            NaN        No  \n",
            "42               No  Not tested      Ibuprofen       Yes  \n",
            "43               No  Not tested       Dolo 650        No  \n",
            "44              Yes  Not tested      Ibuprofen        No  \n",
            "48              Yes  Not tested         Crocin        No  \n",
            "50               No  Not tested    Paracetamol        No  \n",
            "55              Yes  Not tested         Crocin        No  \n",
            "57              Yes    Positive         Crocin       Yes  \n"
          ]
        }
      ]
    },
    {
      "cell_type": "code",
      "source": [
        "# Multiple conditions (OR)\n",
        "filtered = df[(df['Recovered'] == 'No') | (df['Result'] == 'Negative')]\n",
        "print (filtered)"
      ],
      "metadata": {
        "colab": {
          "base_uri": "https://localhost:8080/"
        },
        "id": "WJLoEQQDriO4",
        "outputId": "580c37c7-993f-4dbb-8cc4-172e5c9d4865"
      },
      "execution_count": 37,
      "outputs": [
        {
          "output_type": "stream",
          "name": "stdout",
          "text": [
            "       Name  Age  Gender  Temperature  Fever Duration Cough Cold Headache  \\\n",
            "2   Krishna   77  Female        101.8               9    No   No      Yes   \n",
            "5     Aarya   78  Female        100.3               8    No  Yes      Yes   \n",
            "7     Aryan   40    Male         99.3               3    No   No      Yes   \n",
            "8    Vihaan   30    Male        101.2               4   Yes   No      Yes   \n",
            "10      Ira   59  Female        101.1               9    No   No       No   \n",
            "11    Dhruv   56  Female         99.4               9    No   No      Yes   \n",
            "12    Aarav    7    Male         99.8              10    No  Yes       No   \n",
            "16     Riya   24    Male        103.5               5    No   No       No   \n",
            "17   Vihaan    7  Female        100.2              10    No  Yes       No   \n",
            "18    Anaya   69    Male        103.0               5    No  Yes      Yes   \n",
            "24     Riya   69  Female        103.9               3    No   No       No   \n",
            "25     Diya   45    Male        102.3               1    No   No       No   \n",
            "26   Vivaan   32    Male        100.6               7    No  Yes       No   \n",
            "27    Aarav   55  Female        103.1               2   Yes   No       No   \n",
            "29     Riya    9  Female        103.3               9   Yes  Yes       No   \n",
            "32   Vihaan   25    Male        102.2               6   Yes   No      Yes   \n",
            "34      Ira   22  Female         99.1               3    No  Yes      Yes   \n",
            "35  Krishna    5  Female        103.0               8   Yes  Yes       No   \n",
            "36    Anaya   49    Male         98.7               4    No   No       No   \n",
            "38    Anaya    1    Male        100.5              10    No  Yes       No   \n",
            "39    Arjun   80  Female        101.2               7    No   No       No   \n",
            "40   Vihaan   41    Male         99.7               3    No  Yes      Yes   \n",
            "43     Sara   53    Male         98.2               8    No  Yes       No   \n",
            "44     Diya   59    Male         98.8               7   Yes  Yes       No   \n",
            "45    Rohan    7  Female        101.6               2   Yes  Yes       No   \n",
            "47   Vihaan   20  Female        100.2               3    No  Yes      Yes   \n",
            "48   Aditya   39    Male         99.0               3   Yes   No      Yes   \n",
            "49      Ira   16  Female        101.9               7   Yes   No       No   \n",
            "50    Meera   45    Male        100.2               9    No  Yes      Yes   \n",
            "51     Sara   18    Male         99.6               2   Yes  Yes       No   \n",
            "53      Ira   55  Female        101.0               5   Yes   No      Yes   \n",
            "55  Krishna   38    Male         98.7               2   Yes  Yes       No   \n",
            "56   Saanvi   26    Male        101.2               7    No   No       No   \n",
            "58     Diya   43  Female        103.7               9    No   No      Yes   \n",
            "\n",
            "   Tested for COVID      Result Medicine Given Recovered  \n",
            "2               Yes    Negative    Paracetamol        No  \n",
            "5               Yes    Negative       Dolo 650        No  \n",
            "7               Yes  Not tested      Ibuprofen        No  \n",
            "8               Yes    Negative       Dolo 650        No  \n",
            "10               No  Not tested       Dolo 650        No  \n",
            "11              Yes    Positive       Dolo 650        No  \n",
            "12              Yes  Not tested      Ibuprofen        No  \n",
            "16               No  Not tested            NaN        No  \n",
            "17               No  Not tested            NaN        No  \n",
            "18              Yes    Negative    Paracetamol        No  \n",
            "24               No  Not tested    Paracetamol        No  \n",
            "25              Yes    Negative    Paracetamol        No  \n",
            "26               No  Not tested       Dolo 650        No  \n",
            "27               No  Not tested            NaN        No  \n",
            "29              Yes    Positive       Dolo 650        No  \n",
            "32               No  Not tested      Ibuprofen        No  \n",
            "34              Yes    Negative         Crocin        No  \n",
            "35               No  Not tested         Crocin        No  \n",
            "36              Yes    Negative            NaN        No  \n",
            "38               No  Not tested    Paracetamol        No  \n",
            "39               No  Not tested            NaN        No  \n",
            "40               No  Not tested            NaN        No  \n",
            "43               No  Not tested       Dolo 650        No  \n",
            "44              Yes  Not tested      Ibuprofen        No  \n",
            "45              Yes    Negative       Dolo 650        No  \n",
            "47              Yes    Positive            NaN        No  \n",
            "48              Yes  Not tested         Crocin        No  \n",
            "49              Yes    Negative       Dolo 650        No  \n",
            "50               No  Not tested    Paracetamol        No  \n",
            "51               No  Not tested         Crocin        No  \n",
            "53              Yes  Not tested    Paracetamol        No  \n",
            "55              Yes  Not tested         Crocin        No  \n",
            "56              Yes    Positive            NaN        No  \n",
            "58               No  Not tested    Paracetamol        No  \n"
          ]
        }
      ]
    },
    {
      "cell_type": "markdown",
      "source": [
        "HANDLING MISSING DATA"
      ],
      "metadata": {
        "id": "gXnDoaBctt2Y"
      }
    },
    {
      "cell_type": "code",
      "source": [
        "# Check for nulls\n",
        "print(df.isnull().sum())"
      ],
      "metadata": {
        "colab": {
          "base_uri": "https://localhost:8080/"
        },
        "id": "bAPbhd13tlte",
        "outputId": "23669d09-c06a-4ed0-87ef-5492287b2130"
      },
      "execution_count": 38,
      "outputs": [
        {
          "output_type": "stream",
          "name": "stdout",
          "text": [
            "Name                 0\n",
            "Age                  0\n",
            "Gender               0\n",
            "Temperature          0\n",
            "Fever Duration       0\n",
            "Cough                0\n",
            "Cold                 0\n",
            "Headache             0\n",
            "Tested for COVID     0\n",
            "Result               0\n",
            "Medicine Given      14\n",
            "Recovered            0\n",
            "dtype: int64\n"
          ]
        }
      ]
    },
    {
      "cell_type": "code",
      "source": [
        "# Drop rows with nulls\n",
        "df = df.dropna()\n",
        "print (df)"
      ],
      "metadata": {
        "colab": {
          "base_uri": "https://localhost:8080/"
        },
        "id": "9iZpkF8ct3sj",
        "outputId": "f55ad848-30fc-458a-f77c-6fafe05db243"
      },
      "execution_count": 40,
      "outputs": [
        {
          "output_type": "stream",
          "name": "stdout",
          "text": [
            "       Name  Age  Gender  Temperature  Fever Duration Cough Cold Headache  \\\n",
            "1     Aarya   46    Male        100.3               6    No   No       No   \n",
            "2   Krishna   77  Female        101.8               9    No   No      Yes   \n",
            "4    Vihaan   17    Male        103.0              10   Yes  Yes      Yes   \n",
            "5     Aarya   78  Female        100.3               8    No  Yes      Yes   \n",
            "6    Vihaan   66    Male         98.6               2    No  Yes       No   \n",
            "7     Aryan   40    Male         99.3               3    No   No      Yes   \n",
            "8    Vihaan   30    Male        101.2               4   Yes   No      Yes   \n",
            "9     Rohan   47  Female         98.9               6   Yes  Yes       No   \n",
            "10      Ira   59  Female        101.1               9    No   No       No   \n",
            "11    Dhruv   56  Female         99.4               9    No   No      Yes   \n",
            "12    Aarav    7    Male         99.8              10    No  Yes       No   \n",
            "13     Diya   31  Female         98.1              10   Yes   No      Yes   \n",
            "18    Anaya   69    Male        103.0               5    No  Yes      Yes   \n",
            "19   Saanvi   41    Male        100.1               2    No   No       No   \n",
            "21     Riya   57  Female        104.0               8   Yes   No      Yes   \n",
            "22   Saanvi   40    Male        103.1               9    No   No      Yes   \n",
            "23    Dhruv    7  Female        103.9               5   Yes  Yes      Yes   \n",
            "24     Riya   69  Female        103.9               3    No   No       No   \n",
            "25     Diya   45    Male        102.3               1    No   No       No   \n",
            "26   Vivaan   32    Male        100.6               7    No  Yes       No   \n",
            "28    Anaya   58  Female        103.4               1   Yes   No       No   \n",
            "29     Riya    9  Female        103.3               9   Yes  Yes       No   \n",
            "31   Saanvi   69  Female         99.0               3   Yes  Yes       No   \n",
            "32   Vihaan   25    Male        102.2               6   Yes   No      Yes   \n",
            "33  Krishna   40  Female        100.9               1   Yes  Yes       No   \n",
            "34      Ira   22  Female         99.1               3    No  Yes      Yes   \n",
            "35  Krishna    5  Female        103.0               8   Yes  Yes       No   \n",
            "37   Saanvi   11    Male        102.0               7    No  Yes       No   \n",
            "38    Anaya    1    Male        100.5              10    No  Yes       No   \n",
            "41  Krishna    2    Male        100.5              10   Yes   No      Yes   \n",
            "42   Vihaan   45    Male        101.6               8   Yes   No      Yes   \n",
            "43     Sara   53    Male         98.2               8    No  Yes       No   \n",
            "44     Diya   59    Male         98.8               7   Yes  Yes       No   \n",
            "45    Rohan    7  Female        101.6               2   Yes  Yes       No   \n",
            "46      Ira    6    Male        100.4               1    No  Yes      Yes   \n",
            "48   Aditya   39    Male         99.0               3   Yes   No      Yes   \n",
            "49      Ira   16  Female        101.9               7   Yes   No       No   \n",
            "50    Meera   45    Male        100.2               9    No  Yes      Yes   \n",
            "51     Sara   18    Male         99.6               2   Yes  Yes       No   \n",
            "52    Anaya   34  Female        101.3               7    No  Yes      Yes   \n",
            "53      Ira   55  Female        101.0               5   Yes   No      Yes   \n",
            "54      Sai    6    Male         99.0               1   Yes   No       No   \n",
            "55  Krishna   38    Male         98.7               2   Yes  Yes       No   \n",
            "57    Aarya   64    Male        102.8               1   Yes  Yes       No   \n",
            "58     Diya   43  Female        103.7               9    No   No      Yes   \n",
            "59      Ira   29  Female        103.2               2   Yes   No       No   \n",
            "\n",
            "   Tested for COVID      Result Medicine Given Recovered  \n",
            "1                No  Not tested       Dolo 650       Yes  \n",
            "2               Yes    Negative    Paracetamol        No  \n",
            "4               Yes  Not tested       Dolo 650       Yes  \n",
            "5               Yes    Negative       Dolo 650        No  \n",
            "6               Yes    Positive      Ibuprofen       Yes  \n",
            "7               Yes  Not tested      Ibuprofen        No  \n",
            "8               Yes    Negative       Dolo 650        No  \n",
            "9                No  Not tested       Dolo 650       Yes  \n",
            "10               No  Not tested       Dolo 650        No  \n",
            "11              Yes    Positive       Dolo 650        No  \n",
            "12              Yes  Not tested      Ibuprofen        No  \n",
            "13               No  Not tested    Paracetamol       Yes  \n",
            "18              Yes    Negative    Paracetamol        No  \n",
            "19               No  Not tested      Ibuprofen       Yes  \n",
            "21              Yes    Positive       Dolo 650       Yes  \n",
            "22               No  Not tested      Ibuprofen       Yes  \n",
            "23              Yes    Positive         Crocin       Yes  \n",
            "24               No  Not tested    Paracetamol        No  \n",
            "25              Yes    Negative    Paracetamol        No  \n",
            "26               No  Not tested       Dolo 650        No  \n",
            "28               No  Not tested    Paracetamol       Yes  \n",
            "29              Yes    Positive       Dolo 650        No  \n",
            "31               No  Not tested    Paracetamol       Yes  \n",
            "32               No  Not tested      Ibuprofen        No  \n",
            "33               No  Not tested      Ibuprofen       Yes  \n",
            "34              Yes    Negative         Crocin        No  \n",
            "35               No  Not tested         Crocin        No  \n",
            "37               No  Not tested      Ibuprofen       Yes  \n",
            "38               No  Not tested    Paracetamol        No  \n",
            "41               No  Not tested       Dolo 650       Yes  \n",
            "42               No  Not tested      Ibuprofen       Yes  \n",
            "43               No  Not tested       Dolo 650        No  \n",
            "44              Yes  Not tested      Ibuprofen        No  \n",
            "45              Yes    Negative       Dolo 650        No  \n",
            "46               No  Not tested         Crocin       Yes  \n",
            "48              Yes  Not tested         Crocin        No  \n",
            "49              Yes    Negative       Dolo 650        No  \n",
            "50               No  Not tested    Paracetamol        No  \n",
            "51               No  Not tested         Crocin        No  \n",
            "52              Yes  Not tested         Crocin       Yes  \n",
            "53              Yes  Not tested    Paracetamol        No  \n",
            "54              Yes    Positive      Ibuprofen       Yes  \n",
            "55              Yes  Not tested         Crocin        No  \n",
            "57              Yes    Positive         Crocin       Yes  \n",
            "58               No  Not tested    Paracetamol        No  \n",
            "59              Yes  Not tested       Dolo 650       Yes  \n"
          ]
        }
      ]
    },
    {
      "cell_type": "code",
      "source": [
        "# Fill nulls with mode for object\n",
        "df1=df['Medicine Given'] = df['Medicine Given'].fillna(df['Medicine Given'].mode()[0])\n",
        "print (df1)"
      ],
      "metadata": {
        "colab": {
          "base_uri": "https://localhost:8080/"
        },
        "id": "mKViih57uHSL",
        "outputId": "ae6d600c-2a1b-41d0-bb9d-2b7863b805c5"
      },
      "execution_count": 43,
      "outputs": [
        {
          "output_type": "stream",
          "name": "stdout",
          "text": [
            "1        Dolo 650\n",
            "2     Paracetamol\n",
            "4        Dolo 650\n",
            "5        Dolo 650\n",
            "6       Ibuprofen\n",
            "7       Ibuprofen\n",
            "8        Dolo 650\n",
            "9        Dolo 650\n",
            "10       Dolo 650\n",
            "11       Dolo 650\n",
            "12      Ibuprofen\n",
            "13    Paracetamol\n",
            "18    Paracetamol\n",
            "19      Ibuprofen\n",
            "21       Dolo 650\n",
            "22      Ibuprofen\n",
            "23         Crocin\n",
            "24    Paracetamol\n",
            "25    Paracetamol\n",
            "26       Dolo 650\n",
            "28    Paracetamol\n",
            "29       Dolo 650\n",
            "31    Paracetamol\n",
            "32      Ibuprofen\n",
            "33      Ibuprofen\n",
            "34         Crocin\n",
            "35         Crocin\n",
            "37      Ibuprofen\n",
            "38    Paracetamol\n",
            "41       Dolo 650\n",
            "42      Ibuprofen\n",
            "43       Dolo 650\n",
            "44      Ibuprofen\n",
            "45       Dolo 650\n",
            "46         Crocin\n",
            "48         Crocin\n",
            "49       Dolo 650\n",
            "50    Paracetamol\n",
            "51         Crocin\n",
            "52         Crocin\n",
            "53    Paracetamol\n",
            "54      Ibuprofen\n",
            "55         Crocin\n",
            "57         Crocin\n",
            "58    Paracetamol\n",
            "59       Dolo 650\n",
            "Name: Medicine Given, dtype: object\n"
          ]
        }
      ]
    },
    {
      "cell_type": "markdown",
      "source": [
        "SORTING DATA"
      ],
      "metadata": {
        "id": "eEhxgtkkwZAA"
      }
    },
    {
      "cell_type": "code",
      "source": [
        "# Sort by one column\n",
        "print(df.sort_values('Age'))"
      ],
      "metadata": {
        "colab": {
          "base_uri": "https://localhost:8080/"
        },
        "id": "YsECpnxCwKBf",
        "outputId": "e1ed5a17-e707-439e-b6bb-90d6756a0d89"
      },
      "execution_count": 44,
      "outputs": [
        {
          "output_type": "stream",
          "name": "stdout",
          "text": [
            "       Name  Age  Gender  Temperature  Fever Duration Cough Cold Headache  \\\n",
            "38    Anaya    1    Male        100.5              10    No  Yes       No   \n",
            "41  Krishna    2    Male        100.5              10   Yes   No      Yes   \n",
            "35  Krishna    5  Female        103.0               8   Yes  Yes       No   \n",
            "46      Ira    6    Male        100.4               1    No  Yes      Yes   \n",
            "54      Sai    6    Male         99.0               1   Yes   No       No   \n",
            "45    Rohan    7  Female        101.6               2   Yes  Yes       No   \n",
            "23    Dhruv    7  Female        103.9               5   Yes  Yes      Yes   \n",
            "12    Aarav    7    Male         99.8              10    No  Yes       No   \n",
            "29     Riya    9  Female        103.3               9   Yes  Yes       No   \n",
            "37   Saanvi   11    Male        102.0               7    No  Yes       No   \n",
            "49      Ira   16  Female        101.9               7   Yes   No       No   \n",
            "4    Vihaan   17    Male        103.0              10   Yes  Yes      Yes   \n",
            "51     Sara   18    Male         99.6               2   Yes  Yes       No   \n",
            "34      Ira   22  Female         99.1               3    No  Yes      Yes   \n",
            "32   Vihaan   25    Male        102.2               6   Yes   No      Yes   \n",
            "59      Ira   29  Female        103.2               2   Yes   No       No   \n",
            "8    Vihaan   30    Male        101.2               4   Yes   No      Yes   \n",
            "13     Diya   31  Female         98.1              10   Yes   No      Yes   \n",
            "26   Vivaan   32    Male        100.6               7    No  Yes       No   \n",
            "52    Anaya   34  Female        101.3               7    No  Yes      Yes   \n",
            "55  Krishna   38    Male         98.7               2   Yes  Yes       No   \n",
            "48   Aditya   39    Male         99.0               3   Yes   No      Yes   \n",
            "33  Krishna   40  Female        100.9               1   Yes  Yes       No   \n",
            "7     Aryan   40    Male         99.3               3    No   No      Yes   \n",
            "22   Saanvi   40    Male        103.1               9    No   No      Yes   \n",
            "19   Saanvi   41    Male        100.1               2    No   No       No   \n",
            "58     Diya   43  Female        103.7               9    No   No      Yes   \n",
            "42   Vihaan   45    Male        101.6               8   Yes   No      Yes   \n",
            "25     Diya   45    Male        102.3               1    No   No       No   \n",
            "50    Meera   45    Male        100.2               9    No  Yes      Yes   \n",
            "1     Aarya   46    Male        100.3               6    No   No       No   \n",
            "9     Rohan   47  Female         98.9               6   Yes  Yes       No   \n",
            "43     Sara   53    Male         98.2               8    No  Yes       No   \n",
            "53      Ira   55  Female        101.0               5   Yes   No      Yes   \n",
            "11    Dhruv   56  Female         99.4               9    No   No      Yes   \n",
            "21     Riya   57  Female        104.0               8   Yes   No      Yes   \n",
            "28    Anaya   58  Female        103.4               1   Yes   No       No   \n",
            "44     Diya   59    Male         98.8               7   Yes  Yes       No   \n",
            "10      Ira   59  Female        101.1               9    No   No       No   \n",
            "57    Aarya   64    Male        102.8               1   Yes  Yes       No   \n",
            "6    Vihaan   66    Male         98.6               2    No  Yes       No   \n",
            "18    Anaya   69    Male        103.0               5    No  Yes      Yes   \n",
            "24     Riya   69  Female        103.9               3    No   No       No   \n",
            "31   Saanvi   69  Female         99.0               3   Yes  Yes       No   \n",
            "2   Krishna   77  Female        101.8               9    No   No      Yes   \n",
            "5     Aarya   78  Female        100.3               8    No  Yes      Yes   \n",
            "\n",
            "   Tested for COVID      Result Medicine Given Recovered  \n",
            "38               No  Not tested    Paracetamol        No  \n",
            "41               No  Not tested       Dolo 650       Yes  \n",
            "35               No  Not tested         Crocin        No  \n",
            "46               No  Not tested         Crocin       Yes  \n",
            "54              Yes    Positive      Ibuprofen       Yes  \n",
            "45              Yes    Negative       Dolo 650        No  \n",
            "23              Yes    Positive         Crocin       Yes  \n",
            "12              Yes  Not tested      Ibuprofen        No  \n",
            "29              Yes    Positive       Dolo 650        No  \n",
            "37               No  Not tested      Ibuprofen       Yes  \n",
            "49              Yes    Negative       Dolo 650        No  \n",
            "4               Yes  Not tested       Dolo 650       Yes  \n",
            "51               No  Not tested         Crocin        No  \n",
            "34              Yes    Negative         Crocin        No  \n",
            "32               No  Not tested      Ibuprofen        No  \n",
            "59              Yes  Not tested       Dolo 650       Yes  \n",
            "8               Yes    Negative       Dolo 650        No  \n",
            "13               No  Not tested    Paracetamol       Yes  \n",
            "26               No  Not tested       Dolo 650        No  \n",
            "52              Yes  Not tested         Crocin       Yes  \n",
            "55              Yes  Not tested         Crocin        No  \n",
            "48              Yes  Not tested         Crocin        No  \n",
            "33               No  Not tested      Ibuprofen       Yes  \n",
            "7               Yes  Not tested      Ibuprofen        No  \n",
            "22               No  Not tested      Ibuprofen       Yes  \n",
            "19               No  Not tested      Ibuprofen       Yes  \n",
            "58               No  Not tested    Paracetamol        No  \n",
            "42               No  Not tested      Ibuprofen       Yes  \n",
            "25              Yes    Negative    Paracetamol        No  \n",
            "50               No  Not tested    Paracetamol        No  \n",
            "1                No  Not tested       Dolo 650       Yes  \n",
            "9                No  Not tested       Dolo 650       Yes  \n",
            "43               No  Not tested       Dolo 650        No  \n",
            "53              Yes  Not tested    Paracetamol        No  \n",
            "11              Yes    Positive       Dolo 650        No  \n",
            "21              Yes    Positive       Dolo 650       Yes  \n",
            "28               No  Not tested    Paracetamol       Yes  \n",
            "44              Yes  Not tested      Ibuprofen        No  \n",
            "10               No  Not tested       Dolo 650        No  \n",
            "57              Yes    Positive         Crocin       Yes  \n",
            "6               Yes    Positive      Ibuprofen       Yes  \n",
            "18              Yes    Negative    Paracetamol        No  \n",
            "24               No  Not tested    Paracetamol        No  \n",
            "31               No  Not tested    Paracetamol       Yes  \n",
            "2               Yes    Negative    Paracetamol        No  \n",
            "5               Yes    Negative       Dolo 650        No  \n"
          ]
        }
      ]
    },
    {
      "cell_type": "code",
      "source": [
        "\n",
        "# Sort by multiple columns\n",
        "print(df.sort_values(['Fever Duration', 'Temperature'], ascending=[True,False]))"
      ],
      "metadata": {
        "colab": {
          "base_uri": "https://localhost:8080/"
        },
        "id": "zHKu42gvwySD",
        "outputId": "b9066522-adcc-4e4e-c2b3-2fbe364c59d0"
      },
      "execution_count": 49,
      "outputs": [
        {
          "output_type": "stream",
          "name": "stdout",
          "text": [
            "       Name  Age  Gender  Temperature  Fever Duration Cough Cold Headache  \\\n",
            "28    Anaya   58  Female        103.4               1   Yes   No       No   \n",
            "57    Aarya   64    Male        102.8               1   Yes  Yes       No   \n",
            "25     Diya   45    Male        102.3               1    No   No       No   \n",
            "33  Krishna   40  Female        100.9               1   Yes  Yes       No   \n",
            "46      Ira    6    Male        100.4               1    No  Yes      Yes   \n",
            "54      Sai    6    Male         99.0               1   Yes   No       No   \n",
            "59      Ira   29  Female        103.2               2   Yes   No       No   \n",
            "45    Rohan    7  Female        101.6               2   Yes  Yes       No   \n",
            "19   Saanvi   41    Male        100.1               2    No   No       No   \n",
            "51     Sara   18    Male         99.6               2   Yes  Yes       No   \n",
            "55  Krishna   38    Male         98.7               2   Yes  Yes       No   \n",
            "6    Vihaan   66    Male         98.6               2    No  Yes       No   \n",
            "24     Riya   69  Female        103.9               3    No   No       No   \n",
            "7     Aryan   40    Male         99.3               3    No   No      Yes   \n",
            "34      Ira   22  Female         99.1               3    No  Yes      Yes   \n",
            "31   Saanvi   69  Female         99.0               3   Yes  Yes       No   \n",
            "48   Aditya   39    Male         99.0               3   Yes   No      Yes   \n",
            "8    Vihaan   30    Male        101.2               4   Yes   No      Yes   \n",
            "23    Dhruv    7  Female        103.9               5   Yes  Yes      Yes   \n",
            "18    Anaya   69    Male        103.0               5    No  Yes      Yes   \n",
            "53      Ira   55  Female        101.0               5   Yes   No      Yes   \n",
            "32   Vihaan   25    Male        102.2               6   Yes   No      Yes   \n",
            "1     Aarya   46    Male        100.3               6    No   No       No   \n",
            "9     Rohan   47  Female         98.9               6   Yes  Yes       No   \n",
            "37   Saanvi   11    Male        102.0               7    No  Yes       No   \n",
            "49      Ira   16  Female        101.9               7   Yes   No       No   \n",
            "52    Anaya   34  Female        101.3               7    No  Yes      Yes   \n",
            "26   Vivaan   32    Male        100.6               7    No  Yes       No   \n",
            "44     Diya   59    Male         98.8               7   Yes  Yes       No   \n",
            "21     Riya   57  Female        104.0               8   Yes   No      Yes   \n",
            "35  Krishna    5  Female        103.0               8   Yes  Yes       No   \n",
            "42   Vihaan   45    Male        101.6               8   Yes   No      Yes   \n",
            "5     Aarya   78  Female        100.3               8    No  Yes      Yes   \n",
            "43     Sara   53    Male         98.2               8    No  Yes       No   \n",
            "58     Diya   43  Female        103.7               9    No   No      Yes   \n",
            "29     Riya    9  Female        103.3               9   Yes  Yes       No   \n",
            "22   Saanvi   40    Male        103.1               9    No   No      Yes   \n",
            "2   Krishna   77  Female        101.8               9    No   No      Yes   \n",
            "10      Ira   59  Female        101.1               9    No   No       No   \n",
            "50    Meera   45    Male        100.2               9    No  Yes      Yes   \n",
            "11    Dhruv   56  Female         99.4               9    No   No      Yes   \n",
            "4    Vihaan   17    Male        103.0              10   Yes  Yes      Yes   \n",
            "38    Anaya    1    Male        100.5              10    No  Yes       No   \n",
            "41  Krishna    2    Male        100.5              10   Yes   No      Yes   \n",
            "12    Aarav    7    Male         99.8              10    No  Yes       No   \n",
            "13     Diya   31  Female         98.1              10   Yes   No      Yes   \n",
            "\n",
            "   Tested for COVID      Result Medicine Given Recovered  \n",
            "28               No  Not tested    Paracetamol       Yes  \n",
            "57              Yes    Positive         Crocin       Yes  \n",
            "25              Yes    Negative    Paracetamol        No  \n",
            "33               No  Not tested      Ibuprofen       Yes  \n",
            "46               No  Not tested         Crocin       Yes  \n",
            "54              Yes    Positive      Ibuprofen       Yes  \n",
            "59              Yes  Not tested       Dolo 650       Yes  \n",
            "45              Yes    Negative       Dolo 650        No  \n",
            "19               No  Not tested      Ibuprofen       Yes  \n",
            "51               No  Not tested         Crocin        No  \n",
            "55              Yes  Not tested         Crocin        No  \n",
            "6               Yes    Positive      Ibuprofen       Yes  \n",
            "24               No  Not tested    Paracetamol        No  \n",
            "7               Yes  Not tested      Ibuprofen        No  \n",
            "34              Yes    Negative         Crocin        No  \n",
            "31               No  Not tested    Paracetamol       Yes  \n",
            "48              Yes  Not tested         Crocin        No  \n",
            "8               Yes    Negative       Dolo 650        No  \n",
            "23              Yes    Positive         Crocin       Yes  \n",
            "18              Yes    Negative    Paracetamol        No  \n",
            "53              Yes  Not tested    Paracetamol        No  \n",
            "32               No  Not tested      Ibuprofen        No  \n",
            "1                No  Not tested       Dolo 650       Yes  \n",
            "9                No  Not tested       Dolo 650       Yes  \n",
            "37               No  Not tested      Ibuprofen       Yes  \n",
            "49              Yes    Negative       Dolo 650        No  \n",
            "52              Yes  Not tested         Crocin       Yes  \n",
            "26               No  Not tested       Dolo 650        No  \n",
            "44              Yes  Not tested      Ibuprofen        No  \n",
            "21              Yes    Positive       Dolo 650       Yes  \n",
            "35               No  Not tested         Crocin        No  \n",
            "42               No  Not tested      Ibuprofen       Yes  \n",
            "5               Yes    Negative       Dolo 650        No  \n",
            "43               No  Not tested       Dolo 650        No  \n",
            "58               No  Not tested    Paracetamol        No  \n",
            "29              Yes    Positive       Dolo 650        No  \n",
            "22               No  Not tested      Ibuprofen       Yes  \n",
            "2               Yes    Negative    Paracetamol        No  \n",
            "10               No  Not tested       Dolo 650        No  \n",
            "50               No  Not tested    Paracetamol        No  \n",
            "11              Yes    Positive       Dolo 650        No  \n",
            "4               Yes  Not tested       Dolo 650       Yes  \n",
            "38               No  Not tested    Paracetamol        No  \n",
            "41               No  Not tested       Dolo 650       Yes  \n",
            "12              Yes  Not tested      Ibuprofen        No  \n",
            "13               No  Not tested    Paracetamol       Yes  \n"
          ]
        }
      ]
    },
    {
      "cell_type": "code",
      "source": [],
      "metadata": {
        "id": "UFNSSOxFxooi"
      },
      "execution_count": null,
      "outputs": []
    }
  ]
}