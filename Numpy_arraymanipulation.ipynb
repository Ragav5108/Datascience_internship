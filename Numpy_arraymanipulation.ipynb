{
  "nbformat": 4,
  "nbformat_minor": 0,
  "metadata": {
    "colab": {
      "provenance": [],
      "authorship_tag": "ABX9TyMqCnHTdpZhk0LMurjinWUN",
      "include_colab_link": true
    },
    "kernelspec": {
      "name": "python3",
      "display_name": "Python 3"
    },
    "language_info": {
      "name": "python"
    }
  },
  "cells": [
    {
      "cell_type": "markdown",
      "metadata": {
        "id": "view-in-github",
        "colab_type": "text"
      },
      "source": [
        "<a href=\"https://colab.research.google.com/github/Ragav5108/Datascience_internship/blob/main/Numpy_arraymanipulation.ipynb\" target=\"_parent\"><img src=\"https://colab.research.google.com/assets/colab-badge.svg\" alt=\"Open In Colab\"/></a>"
      ]
    },
    {
      "cell_type": "code",
      "execution_count": 8,
      "metadata": {
        "colab": {
          "base_uri": "https://localhost:8080/"
        },
        "id": "1fuYOgSmzi5E",
        "outputId": "e43cc5e3-63be-47cb-a053-2c71c384d1d1"
      },
      "outputs": [
        {
          "output_type": "stream",
          "name": "stdout",
          "text": [
            "[[1 2 3]\n",
            " [4 5 6]]\n"
          ]
        }
      ],
      "source": [
        "#reshape\n",
        "#Change the shape of an array.\n",
        "\n",
        "import numpy as np\n",
        "a = np.array([1, 2, 3, 4, 5, 6])\n",
        "b = a.reshape((2, 3))  # Convert 1D to 2D (2 rows, 3 columns)\n",
        "print(b)"
      ]
    },
    {
      "cell_type": "code",
      "source": [
        "\n",
        "#reshape using range\n",
        "import numpy as np\n",
        "\n",
        "# Create an array with values from 0 to 11 (12 values)\n",
        "a = np.arange(12)\n",
        "\n",
        "# Reshape it to 3 rows and 4 columns\n",
        "b = a.reshape((3, 4))\n",
        "\n",
        "print(\"Original 1D array:\\n\", a)\n",
        "print(\"Reshaped 2D array (3x4):\\n\", b)"
      ],
      "metadata": {
        "colab": {
          "base_uri": "https://localhost:8080/"
        },
        "id": "Sdr7apgP0Erh",
        "outputId": "a3b7d133-59b9-4fde-93c2-45e2f714d7f9"
      },
      "execution_count": 2,
      "outputs": [
        {
          "output_type": "stream",
          "name": "stdout",
          "text": [
            "Original 1D array:\n",
            " [ 0  1  2  3  4  5  6  7  8  9 10 11]\n",
            "Reshaped 2D array (3x4):\n",
            " [[ 0  1  2  3]\n",
            " [ 4  5  6  7]\n",
            " [ 8  9 10 11]]\n"
          ]
        }
      ]
    },
    {
      "cell_type": "code",
      "source": [
        "#flatten\n",
        "# Convert multi-dimensional array to 1D.\n",
        "\n",
        "a = np.array([[1, 2], [3, 4]])\n",
        "b = a.flatten()\n",
        "print(b)"
      ],
      "metadata": {
        "colab": {
          "base_uri": "https://localhost:8080/"
        },
        "id": "7axWjJsj0NuK",
        "outputId": "f5a097ef-085a-4c2e-8375-12452ccdd085"
      },
      "execution_count": 7,
      "outputs": [
        {
          "output_type": "stream",
          "name": "stdout",
          "text": [
            "[1 2 3 4]\n"
          ]
        }
      ]
    },
    {
      "cell_type": "code",
      "source": [
        "#transpose\n",
        "#Swap rows and columns.\n",
        "a = np.array([[1, 2], [3, 4]])\n",
        "b = a.T\n",
        "print(b)"
      ],
      "metadata": {
        "colab": {
          "base_uri": "https://localhost:8080/"
        },
        "id": "2_72OQm20UvW",
        "outputId": "892111f7-3573-4717-f35a-aa871bd60e38"
      },
      "execution_count": 5,
      "outputs": [
        {
          "output_type": "stream",
          "name": "stdout",
          "text": [
            "[[1 3]\n",
            " [2 4]]\n"
          ]
        }
      ]
    },
    {
      "cell_type": "code",
      "source": [
        "#Stacking Arrays (Vertical & Horizontal)\n",
        "\n",
        "a = np.array([1, 2])\n",
        "b = np.array([3, 4])\n",
        "\n",
        "print('Vertical Stack')\n",
        "v = np.vstack((a, b))\n",
        "print(v)\n",
        "\n",
        "print(' Horizontal Stack ')\n",
        "h = np.hstack((a, b))\n",
        "print(h)"
      ],
      "metadata": {
        "colab": {
          "base_uri": "https://localhost:8080/"
        },
        "id": "qMqGRzWo1HrY",
        "outputId": "1c93e603-878a-46cb-b9ce-bec43720792c"
      },
      "execution_count": 11,
      "outputs": [
        {
          "output_type": "stream",
          "name": "stdout",
          "text": [
            "Vertical Stack\n",
            "[[1 2]\n",
            " [3 4]]\n",
            " Horizontal Stack \n",
            "[1 2 3 4]\n"
          ]
        }
      ]
    },
    {
      "cell_type": "code",
      "source": [
        "#Splitting Arrays\n",
        "\n",
        "a = np.array([1, 2, 3, 4, 5, 6])\n",
        "\n",
        "# Split into 3 parts\n",
        "split = np.array_split(a, 3)\n",
        "print(split)"
      ],
      "metadata": {
        "colab": {
          "base_uri": "https://localhost:8080/"
        },
        "id": "3GqPy7-71jGF",
        "outputId": "81e8bdb3-0875-4d68-c591-fb782ca93e7c"
      },
      "execution_count": 12,
      "outputs": [
        {
          "output_type": "stream",
          "name": "stdout",
          "text": [
            "[array([1, 2]), array([3, 4]), array([5, 6])]\n"
          ]
        }
      ]
    },
    {
      "cell_type": "code",
      "source": [
        "#Joining Arrays\n",
        "\n",
        "a = np.array([1, 2])\n",
        "b = np.array([3, 4])\n",
        "c = np.concatenate((a, b))\n",
        "print(c)"
      ],
      "metadata": {
        "colab": {
          "base_uri": "https://localhost:8080/"
        },
        "id": "GfXOf39r1qam",
        "outputId": "a3dff090-7a9d-420f-ab1e-e594870130d6"
      },
      "execution_count": 13,
      "outputs": [
        {
          "output_type": "stream",
          "name": "stdout",
          "text": [
            "[1 2 3 4]\n"
          ]
        }
      ]
    },
    {
      "cell_type": "code",
      "source": [
        "#Insert Elements\n",
        "\n",
        "a = np.array([1, 2, 4])\n",
        "b = np.insert(a, 2, 3)  # Insert 3 at index 2\n",
        "print(b)"
      ],
      "metadata": {
        "colab": {
          "base_uri": "https://localhost:8080/"
        },
        "id": "xoqtR7wb1ufn",
        "outputId": "81c39fbe-1b5d-4e78-893f-dd8caa0b5526"
      },
      "execution_count": 14,
      "outputs": [
        {
          "output_type": "stream",
          "name": "stdout",
          "text": [
            "[1 2 3 4]\n"
          ]
        }
      ]
    },
    {
      "cell_type": "code",
      "source": [
        "#Delete Elements\n",
        "\n",
        "a = np.array([1, 2, 3, 4])\n",
        "b = np.delete(a, 2)  # Remove element at index 2\n",
        "print(b)"
      ],
      "metadata": {
        "colab": {
          "base_uri": "https://localhost:8080/"
        },
        "id": "X1Goc9Df1zAG",
        "outputId": "e5faf531-a1c0-4bfc-8f2b-f5d267922346"
      },
      "execution_count": 15,
      "outputs": [
        {
          "output_type": "stream",
          "name": "stdout",
          "text": [
            "[1 2 4]\n"
          ]
        }
      ]
    },
    {
      "cell_type": "code",
      "source": [
        "#Repeat Elements\n",
        "\n",
        "a = np.array([1, 2])\n",
        "b = np.repeat(a, 3)  # Repeat each element 3 times\n",
        "print(b)"
      ],
      "metadata": {
        "colab": {
          "base_uri": "https://localhost:8080/"
        },
        "id": "hvY4f0JZ12mv",
        "outputId": "83034ba4-a85e-4476-b20d-6497a5c821fd"
      },
      "execution_count": 16,
      "outputs": [
        {
          "output_type": "stream",
          "name": "stdout",
          "text": [
            "[1 1 1 2 2 2]\n"
          ]
        }
      ]
    },
    {
      "cell_type": "code",
      "source": [
        "#Tile Array (Repeat Whole Array)\n",
        "\n",
        "a = np.array([1, 2])\n",
        "b = np.tile(a, 3)  # Repeat array 3 times\n",
        "print(b)"
      ],
      "metadata": {
        "colab": {
          "base_uri": "https://localhost:8080/"
        },
        "id": "5e5UCQJB16P2",
        "outputId": "e27a2c9e-545d-4c07-f1c3-d0bcd55a7801"
      },
      "execution_count": 17,
      "outputs": [
        {
          "output_type": "stream",
          "name": "stdout",
          "text": [
            "[1 2 1 2 1 2]\n"
          ]
        }
      ]
    }
  ]
}